{
 "cells": [
  {
   "cell_type": "markdown",
   "id": "637b19be",
   "metadata": {},
   "source": [
    "LIBRARY"
   ]
  },
  {
   "cell_type": "code",
   "execution_count": 6,
   "id": "a250400d",
   "metadata": {},
   "outputs": [],
   "source": [
    "import torch \n",
    "import torch.nn as nn # Thư viện xây dựng mạng nơ-ron\n",
    "import torch.nn.functional as F # Thư viện hàm kích hoạt và hàm mất mát"
   ]
  },
  {
   "cell_type": "code",
   "execution_count": 7,
   "id": "c4cf230a",
   "metadata": {},
   "outputs": [],
   "source": [
    "class Net(nn.Module): # kế thừa từ lớp nn.Module \n",
    "    def __init__(self): # hàm khởi tạo \n",
    "        super(Net, self).__init__() # gọi hàm initialize của lớp cha nn.Module\n",
    "        self.conv1 = nn.Conv2d(1, 6, 3) # lớp tích chập 2D (input_channel, output_channel, kernel_size)   \n",
    "        self.conv2 = nn.Conv2d(6, 16, 3) # lớp tích chập 2D (input_channel, output_channel, kernel_size)\n",
    "        self.fc1 = nn.Linear(16 * 6 * 6, 120) # lớp kết nối đầy đủ (input_features, output_features)\n",
    "        self.fc2 = nn.Linear(120, 84) # lớp kết nối đầy đủ (input_features, output_features)\n",
    "        self.fc3 = nn.Linear(84, 10) # lớp kết nối đầy đủ (input_features, output_features)\n",
    " # Khai báo 1 class có 5 layer (2 conv + 3 fc) tạo thành 1 mạng nơ-ron \n",
    "    #kernel_size = 3 -> 3x3 (Width, Height)\n",
    "    #maxpooling sẽ lấy 1 điểm lớn nhất trong vùng kernel ( ví dụ trong 2x2 sẽ lấy điểm lớn nhất trong 4 điểm)\n",
    "    # hàm relu sẽ biến tất cả giá trị âm thành 0, giữ nguyên giá trị dương\n",
    "    def forward(self, x): # hàm truyền xuôi, khi đưa một pic hoặc thông tin gì thì sẽ đi qua hàm forward này \n",
    "        x = self.conv1(x) # qua lớp conv1 x có 1 chanel nhận ra x mới có 6 chanel   \n",
    "        x = F.relu(x) # hàm kích hoạt ReLU\n",
    "        x = F.max_pool2d(x, (2, 2)) # hàm maxpooling với kernel 2x2\n",
    "        x = self.conv2(x) # qua lớp conv2 x có 6 chanel nhận ra x mới có 16 chanel\n",
    "        x = F.relu(x) # hàm kích hoạt ReLU\n",
    "        x = F.max_pool2d(x, 2) # hàm maxpooling với kernel 2x2\n",
    "        \n",
    "        x = x.view(-1, self.num_flat_features(x)) # biến đổi kích thước tensor x thành vector 1 chiều\n",
    "        x = F.relu(self.fc1(x)) # qua lớp fc1 và hàm kích hoạt ReLU\n",
    "        x = F.relu(self.fc2(x)) # qua lớp fc2 và hàm kích hoạt ReLU\n",
    "        x = F.relu(self.fc3(x)) # qua lớp fc3 và hàm kích hoạt ReLU\n",
    "        return x # trả về x\n",
    "    def num_flat_features(self, x): # hàm tính số lượng đặc trưng phẳng\n",
    "        size = x.size()[1:] # lấy kích thước của tensor x, bỏ qua kích thước batch\n",
    "        num_features = 1\n",
    "        for s in size:\n",
    "            num_features *= s # nhân tất cả các kích thước lại với nhau để có số lượng đặc trưng phẳng\n",
    "        return num_features                     "
   ]
  },
  {
   "cell_type": "code",
   "execution_count": 8,
   "id": "6aab65c0",
   "metadata": {},
   "outputs": [
    {
     "name": "stdout",
     "output_type": "stream",
     "text": [
      "Net(\n",
      "  (conv1): Conv2d(1, 6, kernel_size=(3, 3), stride=(1, 1))\n",
      "  (conv2): Conv2d(6, 16, kernel_size=(3, 3), stride=(1, 1))\n",
      "  (fc1): Linear(in_features=576, out_features=120, bias=True)\n",
      "  (fc2): Linear(in_features=120, out_features=84, bias=True)\n",
      "  (fc3): Linear(in_features=84, out_features=10, bias=True)\n",
      ")\n"
     ]
    }
   ],
   "source": [
    "net = Net() # khởi tạo mạng nơ-ron\n",
    "print(net) # in cấu trúc mạng nơ-ron"
   ]
  },
  {
   "cell_type": "code",
   "execution_count": 9,
   "id": "640f348c",
   "metadata": {},
   "outputs": [
    {
     "data": {
      "text/plain": [
       "torch.Size([1, 10])"
      ]
     },
     "execution_count": 9,
     "metadata": {},
     "output_type": "execute_result"
    }
   ],
   "source": [
    "input_image = torch.randn(1, 1, 32, 32) # tạo tensor ngẫu nhiên có kích thước (batch_size, channels, height, width)\n",
    "output = net(input_image) # truyền input_image qua mạng nơ-ron\n",
    "output.shape # in kích thước của output"
   ]
  }
 ],
 "metadata": {
  "kernelspec": {
   "display_name": "Python 3",
   "language": "python",
   "name": "python3"
  },
  "language_info": {
   "codemirror_mode": {
    "name": "ipython",
    "version": 3
   },
   "file_extension": ".py",
   "mimetype": "text/x-python",
   "name": "python",
   "nbconvert_exporter": "python",
   "pygments_lexer": "ipython3",
   "version": "3.11.2"
  }
 },
 "nbformat": 4,
 "nbformat_minor": 5
}
