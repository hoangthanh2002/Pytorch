{
 "cells": [
  {
   "cell_type": "markdown",
   "id": "a7de7b85",
   "metadata": {},
   "source": [
    "LIBRARY"
   ]
  },
  {
   "cell_type": "code",
   "execution_count": 3,
   "id": "9b2abd5c",
   "metadata": {},
   "outputs": [],
   "source": [
    "import os \n",
    "import zipfile \n",
    "import urllib.request\n",
    "\n",
    "data_dir = \"./data\""
   ]
  },
  {
   "cell_type": "code",
   "execution_count": 4,
   "id": "a4b92ec3",
   "metadata": {},
   "outputs": [],
   "source": [
    "url = \"https://download.pytorch.org/tutorial/hymenoptera_data.zip\" # tải dữ liệu từ url\n",
    "save_path = os.path.join(data_dir, \"hymenoptera_data.zip\") # lưu dữ liệu vào thư mục data\n",
    "\n",
    "if not os.path.exists(save_path): # nếu thư mục data không tồn tại thì tạo mới\n",
    "    urllib.request.urlretrieve(url, save_path) # tải dữ liệu từ url và lưu vào save_path\n",
    "    #READ by zipfile\n",
    "    zip = zipfile.ZipFile(save_path, 'r') # mở file zip\n",
    "    zip.extractall(data_dir) # giải nén file zip vào thư mục data\n",
    "    zip.close() # đóng file zip\n",
    "    \n",
    "    os.remove(save_path) # xóa file zip sau khi giải nén"
   ]
  },
  {
   "cell_type": "code",
   "execution_count": 21,
   "id": "b7665956",
   "metadata": {},
   "outputs": [
    {
     "name": "stderr",
     "output_type": "stream",
     "text": [
      "Invalid switch - \"hymenoptera_data\".\n"
     ]
    }
   ],
   "source": [
    "!dir data/hymenoptera_data/train/ants\n"
   ]
  }
 ],
 "metadata": {
  "kernelspec": {
   "display_name": "Python 3",
   "language": "python",
   "name": "python3"
  },
  "language_info": {
   "codemirror_mode": {
    "name": "ipython",
    "version": 3
   },
   "file_extension": ".py",
   "mimetype": "text/x-python",
   "name": "python",
   "nbconvert_exporter": "python",
   "pygments_lexer": "ipython3",
   "version": "3.11.2"
  }
 },
 "nbformat": 4,
 "nbformat_minor": 5
}
