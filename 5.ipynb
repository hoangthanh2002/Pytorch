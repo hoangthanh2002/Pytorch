{
 "cells": [
  {
   "cell_type": "markdown",
   "id": "b7e6fa3e",
   "metadata": {},
   "source": [
    "LIBRARY"
   ]
  },
  {
   "cell_type": "code",
   "execution_count": 1,
   "id": "91fde2f5",
   "metadata": {},
   "outputs": [],
   "source": [
    "import torch \n",
    "import torch.nn as nn # Thư viện xây dựng mạng nơ-ron"
   ]
  },
  {
   "cell_type": "code",
   "execution_count": 2,
   "id": "25f89331",
   "metadata": {},
   "outputs": [],
   "source": [
    "net = nn.Sequential() # Tạo mạng nơ-ron tuần tự"
   ]
  },
  {
   "cell_type": "code",
   "execution_count": 3,
   "id": "ae715756",
   "metadata": {},
   "outputs": [],
   "source": [
    "class FLATTEN(nn.Module):\n",
    "    def forward(self, x): #x = (10,3,32,32) -> (10,3x32x32)\n",
    "        size = x.size()[1:] # Lấy x nhưng bỏ vị trí 1 ở đây là số 10, Lấy kích thước của tensor trừ batch_size\n",
    "        num_features = 1\n",
    "        for s in size:\n",
    "            num_features *= s # Tính tổng số đặc trưng\n",
    "        return x.view(-1, num_features) # Trả về tensor có kích thước (batch_size, num_features)"
   ]
  },
  {
   "cell_type": "code",
   "execution_count": 5,
   "id": "93806458",
   "metadata": {},
   "outputs": [],
   "source": [
    "net.add_module('conv1', nn.Conv2d(1, 6, 3)) # Thêm lớp tích chập với 6 bộ lọc kernel 5x5\n",
    "net.add_module('relu1', nn.ReLU()) # Thêm hàm kích hoạt ReLU\n",
    "net.add_module('pool1', nn.MaxPool2d(2, 2)) # Thêm lớp gộp cực đại với kernel 2x2 và stride 2\n",
    "net.add_module('conv2', nn.Conv2d(6, 16, 3)) # Thêm lớp tích chập với 16 bộ lọc kernel 5x5\n",
    "net.add_module('relu2', nn.ReLU()) # Thêm hàm kích hoạt ReLU\n",
    "net.add_module('pool2', nn.MaxPool2d(2, 2)) # Thêm lớp gộp cực đại với kernel 2x2 và stride 2 \n",
    "#stride = bước nhảy\n",
    "net.add_module('flatten', FLATTEN()) # Thêm lớp làm phẳng\n",
    "net.add_module('fc1', nn.Linear(16 * 6 * 6, 120)) # Thêm lớp kết nối đầy đủ với 120 nút\n",
    "net.add_module('fc2', nn.Linear(120, 84)) # Thêm lớp kết nối đầy đủ với 84 nút\n",
    "net.add_module('fc3', nn.Linear(84, 10)) # Thêm lớp kết nối đầy đủ với 10 nút (10 lớp đầu ra)"
   ]
  },
  {
   "cell_type": "code",
   "execution_count": 6,
   "id": "1efb5d50",
   "metadata": {},
   "outputs": [
    {
     "name": "stdout",
     "output_type": "stream",
     "text": [
      "Sequential(\n",
      "  (conv1): Conv2d(1, 6, kernel_size=(3, 3), stride=(1, 1))\n",
      "  (relu1): ReLU()\n",
      "  (pool1): MaxPool2d(kernel_size=2, stride=2, padding=0, dilation=1, ceil_mode=False)\n",
      "  (conv2): Conv2d(6, 16, kernel_size=(3, 3), stride=(1, 1))\n",
      "  (relu2): ReLU()\n",
      "  (pool2): MaxPool2d(kernel_size=2, stride=2, padding=0, dilation=1, ceil_mode=False)\n",
      "  (flatten): FLATTEN()\n",
      "  (fc1): Linear(in_features=576, out_features=120, bias=True)\n",
      "  (fc2): Linear(in_features=120, out_features=84, bias=True)\n",
      "  (fc3): Linear(in_features=84, out_features=10, bias=True)\n",
      ")\n"
     ]
    }
   ],
   "source": [
    "print(net) # in cấu trúc mạng nơ-ron"
   ]
  },
  {
   "cell_type": "code",
   "execution_count": 7,
   "id": "b7e0ed66",
   "metadata": {},
   "outputs": [
    {
     "data": {
      "text/plain": [
       "torch.Size([1, 10])"
      ]
     },
     "execution_count": 7,
     "metadata": {},
     "output_type": "execute_result"
    }
   ],
   "source": [
    "input = torch.randn(1, 1, 32, 32) # tạo tensor ngẫu nhiên có kích thước (batch_size, input_channel, width, height)\n",
    "output = net(input) # truyền input qua mạng nơ-ron\n",
    "output.shape # in kích thước của output"
   ]
  }
 ],
 "metadata": {
  "kernelspec": {
   "display_name": "Python 3",
   "language": "python",
   "name": "python3"
  },
  "language_info": {
   "codemirror_mode": {
    "name": "ipython",
    "version": 3
   },
   "file_extension": ".py",
   "mimetype": "text/x-python",
   "name": "python",
   "nbconvert_exporter": "python",
   "pygments_lexer": "ipython3",
   "version": "3.11.2"
  }
 },
 "nbformat": 4,
 "nbformat_minor": 5
}
