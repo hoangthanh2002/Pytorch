{
 "cells": [
  {
   "cell_type": "markdown",
   "id": "33c63b3c",
   "metadata": {},
   "source": [
    "LIBRARY "
   ]
  },
  {
   "cell_type": "code",
   "execution_count": null,
   "id": "2a3e4c89",
   "metadata": {},
   "outputs": [],
   "source": [
    "import torch # thư viện học sâu\n",
    "import torch.nn as nn # thư viện mạng nơ-ron để xây dựng mô hình\n",
    "import numpy as np # thư viện toán học\n",
    "import matplotlib.pyplot as plt # thư viện vẽ đồ thị\n",
    "import torchvision.transforms as transforms # thư viện xử lý ảnh khác với PIL ở chỗ có thể áp dụng trực tiếp trên tensor\n",
    "from torchvision.utils import make_grid  # hàm để hiển thị ảnh\n",
    "import json # file json để lưu nhãn\n",
    "import torchvision.datasets as datasets # thư viện các dataset\n",
    "import torchvision.models as models # thư viện các mô hình học sâu\n",
    "import torch.utils.data as data # thư viện xử lý dữ liệu\n",
    "from torch.utils.data import DataLoader # load dữ liệu lên CPU\n",
    "from PIL import Image # thư viện xử lý ảnh\n",
    "import os.path as osp # thư viện os.path để thao tác với đường dẫn file\n",
    "import random # thư viện random để lấy mẫu ngẫu nhiên\n",
    "import os # thư viện os để thao tác với file hệ thống"
   ]
  },
  {
   "cell_type": "code",
   "execution_count": 2,
   "id": "791d38db",
   "metadata": {},
   "outputs": [],
   "source": [
    "torch.manual_seed(21) \n",
    "np.random.seed(21) \n",
    "random.seed(21)"
   ]
  },
  {
   "cell_type": "markdown",
   "id": "22827cc4",
   "metadata": {},
   "source": [
    "PRETRAIN"
   ]
  },
  {
   "cell_type": "code",
   "execution_count": 3,
   "id": "0c7cae33",
   "metadata": {},
   "outputs": [],
   "source": [
    "class ImageTransform():\n",
    "    def __init__(self, resize, mean, std):\n",
    "        self.data_transform = transforms.Compose([\n",
    "            transforms.Resize((resize, resize)),\n",
    "            transforms.ToTensor(),\n",
    "            transforms.Normalize(mean, std)\n",
    "        ])\n",
    "    \n",
    "    def __call__(self, img):\n",
    "        return self.data_transform(img)"
   ]
  },
  {
   "cell_type": "code",
   "execution_count": 10,
   "id": "499616d6",
   "metadata": {},
   "outputs": [],
   "source": [
    "class CustomDataset(data.Dataset):\n",
    "    def __init__(self, root_dir, transform=None, classes=(\"good\", \"defect\")):\n",
    "        self.root_dir = root_dir \n",
    "        self.transform = transform\n",
    "        self.classes = list(classes)\n",
    "        self.class_to_idx = {cls_name: i for i, cls_name in enumerate(self.classes)} # gán nhãn với chỉ số\n",
    "        self.samples = []\n",
    "        for cls in self.classes:\n",
    "            cls_dir = osp.join(root_dir, cls)\n",
    "            if not osp.isdir(cls_dir):\n",
    "                continue\n",
    "            for filename in os.listdir(cls_dir):\n",
    "                if filename.endswith('.jpg'):\n",
    "                    img_path = osp.join(cls_dir, filename) \n",
    "                    label = self.class_to_idx[cls]\n",
    "                    self.samples.append((img_path, label))\n",
    "        if len(self.samples) == 0:\n",
    "            raise RuntimeError(f\"Lỗi không tìm thấy ảnh trong {root_dir}.\")\n",
    "    def __len__(self):\n",
    "        return len(self.samples)  \n",
    "    def __getitem__(self, idx):  \n",
    "        img_path, label = self.samples[idx]\n",
    "        img = Image.open(img_path).convert('RGB')\n",
    "        if self.transform:\n",
    "            img = self.transform(img)\n",
    "        label = torch.tensor(label, dtype=torch.long)\n",
    "        return img, label"
   ]
  },
  {
   "cell_type": "code",
   "execution_count": null,
   "id": "c402afb7",
   "metadata": {},
   "outputs": [],
   "source": [
    "from torch.utils.data import DataLoader\n",
    "transform = ImageTransform(\n",
    "    resize=224,\n",
    "    mean=[0.485, 0.456, 0.406],\n",
    "    std=[0.229, 0.224, 0.225]\n",
    ")\n",
    "\n",
    "dataset = CustomDataset(root_dir= './data/image/', transform=transform)\n",
    "\n",
    "dataloader = DataLoader(\n",
    "    dataset,          # dataset cần load\n",
    "    batch_size=16,    # số lượng ảnh trong 1 batch (tùy GPU/CPU)\n",
    "    shuffle=True,     # xáo trộn dữ liệu mỗi epoch\n",
    "    num_workers=2,    # số luồng CPU đọc dữ liệu song song\n",
    "    pin_memory=True   # tăng tốc độ khi dùng GPU\n",
    ")\n",
    "for imgs, labels in dataloader:\n",
    "    print(\"Kích thước batch ảnh:\", imgs.shape)\n",
    "    print(\"Kích thước batch nhãn:\", labels.shape)\n",
    "    break  # chỉ in 1 batch để kiểm tra"
   ]
  },
  {
   "cell_type": "code",
   "execution_count": null,
   "id": "1897260d",
   "metadata": {},
   "outputs": [],
   "source": []
  }
 ],
 "metadata": {
  "kernelspec": {
   "display_name": "Python 3",
   "language": "python",
   "name": "python3"
  },
  "language_info": {
   "codemirror_mode": {
    "name": "ipython",
    "version": 3
   },
   "file_extension": ".py",
   "mimetype": "text/x-python",
   "name": "python",
   "nbconvert_exporter": "python",
   "pygments_lexer": "ipython3",
   "version": "3.11.2"
  }
 },
 "nbformat": 4,
 "nbformat_minor": 5
}
